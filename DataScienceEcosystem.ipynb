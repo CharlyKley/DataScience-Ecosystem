{
 "cells": [
  {
   "cell_type": "markdown",
   "id": "202788e1-5a58-4fb2-bedd-d736d750b45f",
   "metadata": {},
   "source": [
    "<center>\n",
    "    <img src=\"https://cf-courses-data.s3.us.cloud-object-storage.appdomain.cloud/IBMDeveloperSkillsNetwork-DS0105EN-SkillsNetwork/labs/Module2/images/SN_web_lightmode.png\" width=\"300\" alt=\"cognitiveclass.ai logo\">\n",
    "</center>"
   ]
  },
  {
   "cell_type": "markdown",
   "id": "9ed3395f-8d0b-4eb2-91ae-3abc1218efbf",
   "metadata": {},
   "source": [
    "# Data Science Tools and Ecosystem\n"
   ]
  },
  {
   "cell_type": "markdown",
   "id": "bac53b19-91fe-493a-829c-5b801b4b58d3",
   "metadata": {},
   "source": [
    "### In this notebook, Data Science Tools and Ecosystem are summarized."
   ]
  },
  {
   "cell_type": "markdown",
   "id": "e7ae40a2-1684-4eb8-bcf8-036f1b8f8611",
   "metadata": {},
   "source": [
    "#### Some of the popular languages that Data Scientists use are:\n",
    "1. Python\n",
    "2. R\n",
    "3. Scala"
   ]
  },
  {
   "cell_type": "markdown",
   "id": "b4fb53f9-aee2-46a0-9146-5d90f87ba565",
   "metadata": {},
   "source": [
    "#### Some of the commonly used libraries used by Data Scientists include:\n",
    "1. Scikit-learn\n",
    "2. keras\n",
    "3. pytorch\n",
    "4. dplyr\n",
    "5. stringr\n",
    "6. ggplot\n",
    "7. caret"
   ]
  },
  {
   "cell_type": "markdown",
   "id": "32a1b0ed-0d91-4db1-a1ca-962980a10e26",
   "metadata": {},
   "source": [
    "|Data Science Tools|\n",
    "|------------------|\n",
    "|Anaconda          |\n",
    "|Vscode            |\n",
    "|Rstudio|"
   ]
  },
  {
   "cell_type": "markdown",
   "id": "aaff2778-2ab0-4554-b21d-af0e54b051ac",
   "metadata": {},
   "source": [
    "### Below are a few examples of evaluating arithmetic expressions in Python"
   ]
  },
  {
   "cell_type": "code",
   "execution_count": 26,
   "id": "e855169c-88ba-4ef7-8240-341f906e7481",
   "metadata": {},
   "outputs": [
    {
     "data": {
      "text/plain": [
       "17"
      ]
     },
     "execution_count": 26,
     "metadata": {},
     "output_type": "execute_result"
    }
   ],
   "source": [
    "(3*4)+5\n",
    "## This a simple arithmetic expression to mutiply then add integers."
   ]
  },
  {
   "cell_type": "code",
   "execution_count": 22,
   "id": "5f436374-75e5-4f4f-9858-0f0b2efea5e8",
   "metadata": {},
   "outputs": [
    {
     "name": "stdout",
     "output_type": "stream",
     "text": [
      "3.3333333333333335 Hours\n"
     ]
    }
   ],
   "source": [
    "print(200/60,'Hours')\n",
    "# this will convert 200 minutes to hours by diving by 60"
   ]
  },
  {
   "cell_type": "markdown",
   "id": "4fcdaf80-db78-4c67-b3a8-e17834d9fd49",
   "metadata": {},
   "source": [
    "### **Objectives**:"
   ]
  },
  {
   "cell_type": "markdown",
   "id": "2fcd7c4e-37b7-42bc-9621-370e08e72a96",
   "metadata": {},
   "source": [
    "#### improve skills on some programing languages like:\n",
    "- python\n",
    "- Julia\n",
    "- R\n",
    "- SQL\n",
    "- Scala\n"
   ]
  },
  {
   "cell_type": "markdown",
   "id": "4cd67af9-f0c4-45dc-abda-6f165df45b6e",
   "metadata": {},
   "source": [
    "## Author\n",
    "---------\n",
    "##### Andres Torres"
   ]
  }
 ],
 "metadata": {
  "kernelspec": {
   "display_name": "Python 3 (ipykernel)",
   "language": "python",
   "name": "python3"
  },
  "language_info": {
   "codemirror_mode": {
    "name": "ipython",
    "version": 3
   },
   "file_extension": ".py",
   "mimetype": "text/x-python",
   "name": "python",
   "nbconvert_exporter": "python",
   "pygments_lexer": "ipython3",
   "version": "3.12.4"
  }
 },
 "nbformat": 4,
 "nbformat_minor": 5
}
